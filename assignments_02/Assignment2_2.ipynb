{
 "cells": [
  {
   "cell_type": "markdown",
   "metadata": {},
   "source": [
    "# Assignment 2\n"
   ]
  },
  {
   "cell_type": "markdown",
   "metadata": {},
   "source": [
    "#### 1. 复习上课内容以及复现课程代码"
   ]
  },
  {
   "cell_type": "markdown",
   "metadata": {},
   "source": [
    "在本部分，你需要在复习上课内容和课程代码后，复现课程代码。 "
   ]
  },
  {
   "cell_type": "markdown",
   "metadata": {},
   "source": [
    "#### 2. 回答以下理论题目"
   ]
  },
  {
   "cell_type": "markdown",
   "metadata": {},
   "source": [
    "###### 2.1 What conditions are required to make the BFS return the optimal solution ?\n",
    "  1.costs必须为非负值；\n",
    "  2.每次对列表进行重新排序"
   ]
  },
  {
   "cell_type": "markdown",
   "metadata": {},
   "source": [
    "##### 2.2 Is there a way to make DFS find the optimal solution ? (You may need to read some material about iterative DFS)\n",
    "剪枝"
   ]
  },
  {
   "cell_type": "markdown",
   "metadata": {},
   "source": [
    "##### 2.3 In what conditions BFS is a better choice than DFS and vice versa ?\n",
    "最短和最小问题"
   ]
  },
  {
   "cell_type": "markdown",
   "metadata": {},
   "source": [
    "##### 2.4 When can we use machine learning ?\n",
    "需要从看似杂乱无章的数据中找出相关性的时候"
   ]
  },
  {
   "cell_type": "markdown",
   "metadata": {},
   "source": [
    "##### 2.5 What is the gradient of a function ?\n",
    "函数在某点的方向导数沿着该方向取得最大值，此为函数在该点的梯度"
   ]
  },
  {
   "cell_type": "markdown",
   "metadata": {},
   "source": [
    "##### 2.6 How can we find the maximum value of a function using the information of gradient ?\n",
    "每次加上梯度与学习率的乘积"
   ]
  },
  {
   "cell_type": "markdown",
   "metadata": {},
   "source": [
    "#### 3. 实践部分  寻找地铁路线"
   ]
  },
  {
   "cell_type": "markdown",
   "metadata": {},
   "source": [
    "In this part, although we recommend you to use Beijing subway, you still can use the subway map of any cities that you are interested in. "
   ]
  },
  {
   "cell_type": "markdown",
   "metadata": {},
   "source": [
    "![title](img/ditu.png)"
   ]
  },
  {
   "cell_type": "markdown",
   "metadata": {},
   "source": [
    "Please using the search policy to implement an agent. This agent receives two input, one is @param start station and the other is @param destination. Your agent should give the optimal route based on Beijing Subway system."
   ]
  },
  {
   "cell_type": "markdown",
   "metadata": {},
   "source": [
    "Deadline: 2019-October-27"
   ]
  },
  {
   "cell_type": "markdown",
   "metadata": {},
   "source": [
    "#### Procedures"
   ]
  },
  {
   "cell_type": "markdown",
   "metadata": {},
   "source": [
    "#### 1. Get data from web.  "
   ]
  },
  {
   "cell_type": "markdown",
   "metadata": {},
   "source": [
    "Some tips: "
   ]
  },
  {
   "cell_type": "markdown",
   "metadata": {},
   "source": [
    "a. You might need this package: requests[https://2.python-requests.org/en/master/] to get webpages"
   ]
  },
  {
   "cell_type": "markdown",
   "metadata": {},
   "source": [
    "b.You might need to use Regular Expression and Beautiful Soap package to parse the webpages"
   ]
  },
  {
   "cell_type": "code",
   "execution_count": 38,
   "metadata": {},
   "outputs": [],
   "source": [
    "from bs4 import BeautifulSoup\n",
    "import requests\n",
    "import re\n",
    "import random\n",
    "import json"
   ]
  },
  {
   "cell_type": "code",
   "execution_count": 39,
   "metadata": {},
   "outputs": [],
   "source": [
    "url = \"http://map.amap.com/subway/index.html?&1100\""
   ]
  },
  {
   "cell_type": "code",
   "execution_count": 40,
   "metadata": {},
   "outputs": [],
   "source": [
    "headers = {\n",
    "            'user-agent':'Mozilla/5.0 (Windows NT 6.1; WOW64) AppleWebKit/537.36 (KHTML, like Gecko) Chrome/63.0.3239.132 Safari/537.36'\n",
    "        }"
   ]
  },
  {
   "cell_type": "code",
   "execution_count": null,
   "metadata": {},
   "outputs": [],
   "source": []
  },
  {
   "cell_type": "code",
   "execution_count": 41,
   "metadata": {},
   "outputs": [],
   "source": [
    "responses = requests.get(url=url, headers=headers)"
   ]
  },
  {
   "cell_type": "code",
   "execution_count": 42,
   "metadata": {},
   "outputs": [],
   "source": [
    "data = responses.text"
   ]
  },
  {
   "cell_type": "code",
   "execution_count": 6,
   "metadata": {},
   "outputs": [],
   "source": [
    "soup = BeautifulSoup(responses.content,'html.parser',from_encoding='utf-8')"
   ]
  },
  {
   "cell_type": "code",
   "execution_count": 7,
   "metadata": {},
   "outputs": [
    {
     "data": {
      "text/plain": [
       "<!DOCTYPE html>\n",
       "\n",
       "<!--[if !IE]><!-->\n",
       "<html>\n",
       "<!--<![endif]-->\n",
       "<!--[if lte IE 8]>\n",
       "\t<html xmlns:v=\"urn:schemas-microsoft-com:vml\" class=\"ie\">\n",
       "<![endif]-->\n",
       "<head>\n",
       "<meta content=\"text/html; charset=utf-8\" http-equiv=\"Content-Type\"/>\n",
       "<!-- <meta name=\"viewport\" content=\"width=device-width, initial-scale=0.2, maximum-scale=3.0, minimum-scale=1.0, user-scalable=yes\" /> -->\n",
       "<meta content=\"地图，高德地图，高德地图官网，amap地图，搜索地点，公交查询，驾车导航，中国地图，北京地图，街景地图，团购，优惠信息\" name=\"Keywords\"/>\n",
       "<meta content=\"高德地图官方网站，提供全国地图浏览，地点搜索，公交驾车查询服务。可同时查看商家团购、优惠信息。高德地图，您的出行、生活好帮手。\" name=\"Description\"/>\n",
       "<meta content=\"noodp\" name=\"robots\"/>\n",
       "<title>高德地图 | 地铁图</title>\n",
       "<link href=\"./img/subway/favicon.ico?v=1.1\" media=\"screen\" rel=\"shortcut icon\" type=\"image/x-icon\"/>\n",
       "<link href=\"./css/style.css\" rel=\"stylesheet\" type=\"text/css\"/>\n",
       "<style type=\"text/css\">\n",
       "</style>\n",
       "</head>\n",
       "<body>\n",
       "<div class=\"sw-wrap\">\n",
       "<div class=\"sw-nav\">\n",
       "<div class=\"sw-nav-top \">\n",
       "<div class=\"autonavi-logo\">\n",
       "<a class=\"logo-img\" href=\"http://www.amap.com\" target=\"_blank\" title=\"高德地图\"></a>\n",
       "</div>\n",
       "<div class=\"sw-city\">\n",
       "<div class=\"city-list fl\">\n",
       "<a cityname=\"beijing\" class=\"city select\" href=\"javascript:void(0)\" id=\"1100\">北京</a>\n",
       "<a cityname=\"shanghai\" class=\"city\" href=\"javascript:void(0)\" id=\"3100\">上海</a>\n",
       "<a cityname=\"guangzhou\" class=\"city\" href=\"javascript:void(0)\" id=\"4401\">广州</a>\n",
       "<a cityname=\"shenzhen\" class=\"city\" href=\"javascript:void(0)\" id=\"4403\">深圳</a>\n",
       "<a cityname=\"wuhan\" class=\"city\" href=\"javascript:void(0)\" id=\"4201\">武汉</a>\n",
       "<a cityname=\"tianjin\" class=\"city\" href=\"javascript:void(0)\" id=\"1200\">天津</a>\n",
       "<a cityname=\"nanjing\" class=\"city\" href=\"javascript:void(0)\" id=\"3201\">南京</a>\n",
       "<a cityname=\"xianggang\" class=\"city last\" href=\"javascript:void(0)\" id=\"8100\">香港</a>\n",
       "</div>\n",
       "<div class=\"more-city\">\n",
       "<div class=\"more-text-box\">\n",
       "<span class=\"more-text\">更多</span>\n",
       "<span class=\"more-icon close\"></span>\n",
       "<!-- <div class=\"clr\"></div> -->\n",
       "</div>\n",
       "<div class=\"more-city-list\" style=\"display: none\">\n",
       "<a cityname=\"chongqing\" class=\"other-city\" href=\"javascript:void(0)\" id=\"5000\">重庆</a>\n",
       "<a cityname=\"hangzhou\" class=\"other-city\" href=\"javascript:void(0)\" id=\"3301\">杭州</a>\n",
       "<a cityname=\"shenyang\" class=\"other-city\" href=\"javascript:void(0)\" id=\"2101\">沈阳</a>\n",
       "<a cityname=\"dalian\" class=\"other-city\" href=\"javascript:void(0)\" id=\"2102\">大连</a>\n",
       "<a cityname=\"chengdu\" class=\"other-city\" href=\"javascript:void(0)\" id=\"5101\">成都</a>\n",
       "<a cityname=\"changchun\" class=\"other-city\" href=\"javascript:void(0)\" id=\"2201\">长春</a>\n",
       "<a cityname=\"suzhou\" class=\"other-city\" href=\"javascript:void(0)\" id=\"3205\">苏州</a>\n",
       "<a cityname=\"foshan\" class=\"other-city\" href=\"javascript:void(0)\" id=\"4406\">佛山</a>\n",
       "<a cityname=\"kunming\" class=\"other-city\" href=\"javascript:void(0)\" id=\"5301\">昆明</a>\n",
       "<a cityname=\"xian\" class=\"other-city\" href=\"javascript:void(0)\" id=\"6101\">西安</a>\n",
       "<a cityname=\"zhengzhou\" class=\"other-city\" href=\"javascript:void(0)\" id=\"4101\">郑州</a>\n",
       "<a cityname=\"changsha\" class=\"other-city\" href=\"javascript:void(0)\" id=\"4301\">长沙</a>\n",
       "<a cityname=\"ningbo\" class=\"other-city\" href=\"javascript:void(0)\" id=\"3302\">宁波</a>\n",
       "<a cityname=\"wuxi\" class=\"other-city\" href=\"javascript:void(0)\" id=\"3202\">无锡</a>\n",
       "<a cityname=\"qingdao\" class=\"other-city\" href=\"javascript:void(0)\" id=\"3702\">青岛</a>\n",
       "<a cityname=\"nanchang\" class=\"other-city\" href=\"javascript:void(0)\" id=\"3601\">南昌</a>\n",
       "<a cityname=\"fuzhou\" class=\"other-city\" href=\"javascript:void(0)\" id=\"3501\">福州</a>\n",
       "<a cityname=\"dongguan\" class=\"other-city\" href=\"javascript:void(0)\" id=\"4419\">东莞</a>\n",
       "<a cityname=\"nanning\" class=\"other-city\" href=\"javascript:void(0)\" id=\"4501\">南宁</a>\n",
       "<a cityname=\"hefei\" class=\"other-city\" href=\"javascript:void(0)\" id=\"3401\">合肥</a>\n",
       "<a cityname=\"guiyang\" class=\"other-city\" href=\"javascript:void(0)\" id=\"5201\">贵阳</a>\n",
       "<a cityname=\"xiamen\" class=\"other-city\" href=\"javascript:void(0)\" id=\"3502\">厦门</a>\n",
       "<a cityname=\"haerbin\" class=\"other-city ie-other-city\" href=\"javascript:void(0)\" id=\"2301\">哈尔滨</a>\n",
       "<a cityname=\"shijiazhuang\" class=\"other-city ie-other-city\" href=\"javascript:void(0)\" id=\"1301\">石家庄</a>\n",
       "</div>\n",
       "</div>\n",
       "</div>\n",
       "<div class=\"sw-shortcut\">\n",
       "<!-- <a class=\"sw-shortcut-btn\" href=\"javascript:void(0);\"  id=\"sw-share\">\n",
       "\t\t\t\t\t分享\n",
       "\t\t\t\t\t<div class=\"sw-share-box\" style=\"display:none;\">\n",
       "\t\t\t\t\t\t<div class=\"sw-share-box-arrow-box\">\n",
       "\t\t\t\t\t\t\t<div class=\"sw-share-box-arrow\"></div>\n",
       "\t\t\t\t\t\t</div>\n",
       "\t\t\t\t\t\t<div class=\"sw-share-content\">\n",
       "\t\t\t\t\t\t\t<div class=\"sw-share-link\">\n",
       "\t\t\t\t\t\t\t\t<span class=\"sw-share-label\">分享到：</span>\n",
       "\t\t\t\t\t\t\t\t<ul class=\"sw-share-list\">\n",
       "\t\t\t\t\t\t\t\t\t<li class=\"sw-share-item sw-share-xl\" id=\"xl\" title=\"分享到新浪微博\"></li>\n",
       "\t\t\t\t\t\t\t\t\t<li class=\"sw-share-item sw-share-kx\" id=\"kx\" title=\"分享到开心网\"></li>\n",
       "\t\t\t\t\t\t\t\t\t<li class=\"sw-share-item sw-share-qq\" id=\"qq\" title=\"分享到QQ空间\"></li>\n",
       "\t\t\t\t\t\t\t\t\t<li class=\"sw-share-item sw-share-db\" id=\"db\" title=\"分享到豆瓣\"></li>\n",
       "\t\t\t\t\t\t\t\t\t<li class=\"sw-share-item sw-share-rr\" id=\"rr\" title=\"分享到人人网\"></li>\n",
       "\t\t\t\t\t\t\t\t</ul>\n",
       "\t\t\t\t\t\t\t</div>\n",
       "\t\t\t\t\t\t\t<div class=\"sw-share-QR\">\n",
       "\t\t\t\t\t\t\t\t<div class=\"sw-share-QRcode\">\n",
       "\t\t\t\t\t\t\t\t\t<img class=\"sw-share-QRcode-loading\" src=\"./img/subway/loading.gif\"/>\n",
       "\t\t\t\t\t\t\t\t\t<img class=\"sw-share-QRcode-img\" id=\"sw-share-QRcode\" src=\"\" style=\"display:none\"/>\n",
       "\t\t\t\t\t\t\t\t</div>\n",
       "\t\t\t\t\t\t\t\t<div class=\"sw-share-QRtext\">\n",
       "\t\t\t\t\t\t\t\t\t打开微信，点击底部的“发现”，使用 “扫一扫” 即可将线路图分享到我的朋友圈。\n",
       "\t\t\t\t\t\t\t\t</div>\n",
       "\t\t\t\t\t\t\t</div>\n",
       "\t\t\t\t\t\t</div>\n",
       "\t\t\t\t\t</div>\n",
       "\t\t\t\t</a>\n",
       "\t\t\t\t<a class=\"sw-shortcut-btn\" id=\"sw-print\" href=\"\" target=\"_blank\">打印</a> -->\n",
       "<a class=\"sw-shortcut-btn\" href=\"http://www.amap.com\" id=\"sw-back\">返回地图</a>\n",
       "</div>\n",
       "</div><!-- sw-nav-top end -->\n",
       "<div class=\"sw-nav-bottom sw-caption\">\n",
       "<div class=\"line-caption-box\">\n",
       "<div class=\"line-caption-list\">\n",
       "</div>\n",
       "</div>\n",
       "</div><!-- sw-nav-bottom end -->\n",
       "</div><!-- sw-nav end -->\n",
       "<div class=\"sw-map\">\n",
       "<div id=\"subway-content\">\n",
       "<div id=\"sw-toolbar\">\n",
       "<div class=\"zoom-btn\" id=\"sw-zoomin-btn\"></div>\n",
       "<div id=\"sw-zoom-track\">\n",
       "<div id=\"sw-zoom-drag\"></div>\n",
       "</div>\n",
       "<div class=\"zoom-btn\" id=\"sw-zoomout-btn\"></div>\n",
       "</div>\n",
       "<div id=\"subway\"></div>\n",
       "</div>\n",
       "<div class=\"clr\"></div>\n",
       "<div id=\"tip-window\">\n",
       "<div class=\"line-name-box\">\n",
       "<span id=\"line-name-tip\"></span>\n",
       "</div>\n",
       "<div class=\"line-name-arrow\"></div>\n",
       "</div>\n",
       "<div class=\"loading-bg\">\n",
       "<div class=\"loading-outer\">\n",
       "<div class=\"loading\">\n",
       "<img class=\"loading-img\" src=\"./img/subway/loading.gif\"/>\n",
       "<div class=\"loading-txt\">正在加载，请稍候...</div>\n",
       "</div>\n",
       "</div>\n",
       "</div>\n",
       "</div>\n",
       "<div class=\"loading-bg-once\">\n",
       "<div class=\"loading-outer\">\n",
       "<div class=\"loading\">\n",
       "<img class=\"loading-img\" src=\"./img/subway/loading.gif\"/>\n",
       "<div class=\"loading-txt\">正在加载，请稍候...</div>\n",
       "</div>\n",
       "</div>\n",
       "</div>\n",
       "</div><!-- sw-wrap end -->\n",
       "<script src=\"./js/lib/jquery.min.js\" type=\"text/javascript\"></script>\n",
       "<script src=\"./js/lib/jscrollpane.min.js\" type=\"text/javascript\"></script>\n",
       "<script src=\"./js/lib/mousewheel.js\" type=\"text/javascript\"></script>\n",
       "<!--[if IE 6]> \n",
       "\t<script type=\"text/javascript\" src=\"./js/lib/iepngfix.js\"></script>\n",
       "<![endif]-->\n",
       "<script type=\"text/javascript\">\n",
       "if(document.addEventListener){\n",
       "\tdocument.write('<script type=\"text/javascript\" src=\"./js/lib/d3.v3.min.js\"><\\/script>');\n",
       "}\n",
       "</script>\n",
       "<script type=\"text/javascript\">\n",
       "\tdocument.write('<script type=\"text/javascript\" src=\"./js/subway'+ (document.addEventListener?\"\":\"ie\")+ '/basic.js\"><\\/script>');\n",
       "</script>\n",
       "<script type=\"text/javascript\">\n",
       "\tdocument.write('<script type=\"text/javascript\" src=\"./js/subway'+ (document.addEventListener?\"\":\"ie\")+ '/common.js\"><\\/script>');\n",
       "</script>\n",
       "<script type=\"text/javascript\">\n",
       "\tdocument.write('<script type=\"text/javascript\" src=\"./js/subway'+ (document.addEventListener?\"\":\"ie\")+ '/drw.js\"><\\/script>');\n",
       "</script>\n",
       "<script type=\"text/javascript\">\n",
       "\tdocument.write('<script type=\"text/javascript\" src=\"./js/subway'+ (document.addEventListener?\"\":\"ie\")+ '/main.js\"><\\/script>');\n",
       "</script>\n",
       "<script type=\"text/javascript\">\n",
       "SW.swInit();\n",
       "</script>\n",
       "<div style=\"display:none\">\n",
       "<script language=\"JavaScript\" src=\"http://w.cnzz.com/q_stat.php?id=1255672570&amp;l=3\"></script>\n",
       "</div>\n",
       "</body>\n",
       "</html>"
      ]
     },
     "execution_count": 7,
     "metadata": {},
     "output_type": "execute_result"
    }
   ],
   "source": [
    "soup"
   ]
  },
  {
   "cell_type": "code",
   "execution_count": null,
   "metadata": {},
   "outputs": [],
   "source": []
  },
  {
   "cell_type": "markdown",
   "metadata": {},
   "source": [
    "##### 2. Preprocessing data"
   ]
  },
  {
   "cell_type": "code",
   "execution_count": 43,
   "metadata": {},
   "outputs": [],
   "source": [
    "def parse_get_subway(ID, city, name):\n",
    "        # 拼接地铁信息的url\n",
    "        url = 'http://map.amap.com/service/subway?_1555502190153&srhdata=' + ID + '_drw_' + city + '.json'\n",
    "        # 获取数据\n",
    "        response = requests.get(url=url, headers=headers)\n",
    "        # 传递一个参数接收返回的字符串类型\n",
    "        html = response.text\n",
    "        # 通过json.loads将json字符串类型转为python数据类型\n",
    "        result = json.loads(html)\n",
    "        # 循环遍历数据节点，所有地铁路线\n",
    "        for node in result['l']:\n",
    "            # \"st\"为地铁线的站点\n",
    "            for start in node['st']:\n",
    "\n",
    "                # 判断是否含有地铁分线\n",
    "                # node:\"l\"里包含所有地铁路线  “la”为分线\n",
    "                if len(node['la']) > 0:\n",
    "                    # \"ln\"为1号线，2号线。。。  “n”为地铁站站名\n",
    "                    print(name, node['ln'] + '(' + node['la'] + ')', start['n'])\n",
    "\n",
    "                    with open('subway.json', 'a+', encoding='utf8') as f:\n",
    "\n",
    "                        f.write(name + ',' + node['ln'] + '(' + node['la'] + ')' + ',' + start['n'] + '\\n')\n",
    "\n",
    "                else:\n",
    "\n",
    "                    print(name, node['ln'], start['n'])\n",
    "\n",
    "                    with open('subway.json', 'a+', encoding='utf8') as f:\n",
    "\n",
    "                        f.write(name + ',' + node['ln'] + ',' + start['n'] + '\\n')"
   ]
  },
  {
   "cell_type": "code",
   "execution_count": 44,
   "metadata": {},
   "outputs": [],
   "source": [
    "def parse_city_data(data):\n",
    "        # 对数据进行编码\n",
    "        data = data.encode('ISO-8859-1')\n",
    "        data = data.decode('utf-8')\n",
    "        soup = BeautifulSoup(data, 'lxml')\n",
    "\n",
    "        # 获取城市信息\n",
    "        res1 = soup.find_all(class_=\"city-list fl\")[0]\n",
    "        res2 = soup.find_all(class_=\"more-city-list\")[0]\n",
    "        # 遍历a标签\n",
    "        for temp in res1.find_all('a'):\n",
    "            # 城市ID值\n",
    "            ID = temp['id']\n",
    "            # 城市拼音名\n",
    "            city_name = temp['cityname']\n",
    "            # 城市名\n",
    "            name = temp.get_text()\n",
    "            print(ID + ' '+ city_name + ' '+ name)\n",
    "            #parse_get_subway(ID, city_name, name)\n",
    "\n",
    "        for temp in res2.find_all('a'):\n",
    "            # 城市ID值\n",
    "            ID = temp['id']\n",
    "            # 城市拼音名\n",
    "            city_name = temp['cityname']\n",
    "            # 城市名\n",
    "            name = temp.get_text()\n",
    "            print(ID + ' '+ city_name + ' ')\n",
    "            #parse_get_subway(ID, city_name, name)"
   ]
  },
  {
   "cell_type": "code",
   "execution_count": 47,
   "metadata": {},
   "outputs": [
    {
     "name": "stdout",
     "output_type": "stream",
     "text": [
      "深圳 1号线/罗宝线 罗湖\n",
      "深圳 1号线/罗宝线 国贸\n",
      "深圳 1号线/罗宝线 老街\n",
      "深圳 1号线/罗宝线 大剧院\n",
      "深圳 1号线/罗宝线 大剧院\n",
      "深圳 1号线/罗宝线 科学馆\n",
      "深圳 1号线/罗宝线 华强路\n",
      "深圳 1号线/罗宝线 岗厦\n",
      "深圳 1号线/罗宝线 会展中心\n",
      "深圳 1号线/罗宝线 购物公园\n",
      "深圳 1号线/罗宝线 香蜜湖\n",
      "深圳 1号线/罗宝线 车公庙\n",
      "深圳 1号线/罗宝线 竹子林\n",
      "深圳 1号线/罗宝线 侨城东\n",
      "深圳 1号线/罗宝线 华侨城\n",
      "深圳 1号线/罗宝线 世界之窗\n",
      "深圳 1号线/罗宝线 白石洲\n",
      "深圳 1号线/罗宝线 高新园\n",
      "深圳 1号线/罗宝线 深大\n",
      "深圳 1号线/罗宝线 桃园\n",
      "深圳 1号线/罗宝线 大新\n",
      "深圳 1号线/罗宝线 鲤鱼门\n",
      "深圳 1号线/罗宝线 前海湾\n",
      "深圳 1号线/罗宝线 新安\n",
      "深圳 1号线/罗宝线 宝安中心\n",
      "深圳 1号线/罗宝线 宝体\n",
      "深圳 1号线/罗宝线 坪洲\n",
      "深圳 1号线/罗宝线 西乡\n",
      "深圳 1号线/罗宝线 固戍\n",
      "深圳 1号线/罗宝线 后瑞\n",
      "深圳 1号线/罗宝线 机场东\n",
      "深圳 2号线/蛇口线 赤湾\n",
      "深圳 2号线/蛇口线 蛇口港\n",
      "深圳 2号线/蛇口线 海上世界\n",
      "深圳 2号线/蛇口线 水湾\n",
      "深圳 2号线/蛇口线 东角头\n",
      "深圳 2号线/蛇口线 湾厦\n",
      "深圳 2号线/蛇口线 海月\n",
      "深圳 2号线/蛇口线 登良\n",
      "深圳 2号线/蛇口线 后海\n",
      "深圳 2号线/蛇口线 科苑\n",
      "深圳 2号线/蛇口线 红树湾\n",
      "深圳 2号线/蛇口线 世界之窗\n",
      "深圳 2号线/蛇口线 侨城北\n",
      "深圳 2号线/蛇口线 深康\n",
      "深圳 2号线/蛇口线 安托山\n",
      "深圳 2号线/蛇口线 侨香\n",
      "深圳 2号线/蛇口线 香蜜\n",
      "深圳 2号线/蛇口线 香梅北\n",
      "深圳 2号线/蛇口线 景田\n",
      "深圳 2号线/蛇口线 莲花西\n",
      "深圳 2号线/蛇口线 福田\n",
      "深圳 2号线/蛇口线 市民中心\n",
      "深圳 2号线/蛇口线 岗厦北\n",
      "深圳 2号线/蛇口线 华强北\n",
      "深圳 2号线/蛇口线 燕南\n",
      "深圳 2号线/蛇口线 大剧院\n",
      "深圳 2号线/蛇口线 湖贝\n",
      "深圳 2号线/蛇口线 黄贝岭\n",
      "深圳 2号线/蛇口线 新秀\n",
      "深圳 3号线/龙岗线 益田\n",
      "深圳 3号线/龙岗线 石厦\n",
      "深圳 3号线/龙岗线 购物公园\n",
      "深圳 3号线/龙岗线 福田\n",
      "深圳 3号线/龙岗线 少年宫\n",
      "深圳 3号线/龙岗线 莲花村\n",
      "深圳 3号线/龙岗线 华新\n",
      "深圳 3号线/龙岗线 通新岭\n",
      "深圳 3号线/龙岗线 红岭\n",
      "深圳 3号线/龙岗线 老街\n",
      "深圳 3号线/龙岗线 晒布\n",
      "深圳 3号线/龙岗线 翠竹\n",
      "深圳 3号线/龙岗线 田贝\n",
      "深圳 3号线/龙岗线 水贝\n",
      "深圳 3号线/龙岗线 草埔\n",
      "深圳 3号线/龙岗线 布吉\n",
      "深圳 3号线/龙岗线 木棉湾\n",
      "深圳 3号线/龙岗线 大芬\n",
      "深圳 3号线/龙岗线 丹竹头\n",
      "深圳 3号线/龙岗线 六约\n",
      "深圳 3号线/龙岗线 塘坑\n",
      "深圳 3号线/龙岗线 横岗\n",
      "深圳 3号线/龙岗线 永湖\n",
      "深圳 3号线/龙岗线 荷坳\n",
      "深圳 3号线/龙岗线 大运\n",
      "深圳 3号线/龙岗线 爱联\n",
      "深圳 3号线/龙岗线 吉祥\n",
      "深圳 3号线/龙岗线 龙城广场\n",
      "深圳 3号线/龙岗线 南联\n",
      "深圳 3号线/龙岗线 双龙\n",
      "深圳 4号线/龙华线 福田口岸\n",
      "深圳 4号线/龙华线 福民\n",
      "深圳 4号线/龙华线 会展中心\n",
      "深圳 4号线/龙华线 市民中心\n",
      "深圳 4号线/龙华线 少年宫\n",
      "深圳 4号线/龙华线 莲花北\n",
      "深圳 4号线/龙华线 上梅林\n",
      "深圳 4号线/龙华线 民乐\n",
      "深圳 4号线/龙华线 白石龙\n",
      "深圳 4号线/龙华线 深圳北站\n",
      "深圳 4号线/龙华线 红山\n",
      "深圳 4号线/龙华线 上塘\n",
      "深圳 4号线/龙华线 龙胜\n",
      "深圳 4号线/龙华线 龙华\n",
      "深圳 4号线/龙华线 清湖\n",
      "深圳 5号线/环中线 赤湾\n",
      "深圳 5号线/环中线 荔湾\n",
      "深圳 5号线/环中线 铁路公园\n",
      "深圳 5号线/环中线 妈湾\n",
      "深圳 5号线/环中线 前湾公园\n",
      "深圳 5号线/环中线 前湾\n",
      "深圳 5号线/环中线 桂湾\n",
      "深圳 5号线/环中线 前海湾\n",
      "深圳 5号线/环中线 临海\n",
      "深圳 5号线/环中线 宝华\n",
      "深圳 5号线/环中线 宝安中心\n",
      "深圳 5号线/环中线 翻身\n",
      "深圳 5号线/环中线 灵芝\n",
      "深圳 5号线/环中线 洪浪北\n",
      "深圳 5号线/环中线 兴东\n",
      "深圳 5号线/环中线 留仙洞\n",
      "深圳 5号线/环中线 西丽\n",
      "深圳 5号线/环中线 大学城\n",
      "深圳 5号线/环中线 塘朗\n",
      "深圳 5号线/环中线 长岭陂\n",
      "深圳 5号线/环中线 深圳北站\n",
      "深圳 5号线/环中线 民治\n",
      "深圳 5号线/环中线 五和\n",
      "深圳 5号线/环中线 坂田\n",
      "深圳 5号线/环中线 杨美\n",
      "深圳 5号线/环中线 上水径\n",
      "深圳 5号线/环中线 下水径\n",
      "深圳 5号线/环中线 长龙\n",
      "深圳 5号线/环中线 布吉\n",
      "深圳 5号线/环中线 百鸽笼\n",
      "深圳 5号线/环中线 布心\n",
      "深圳 5号线/环中线 太安\n",
      "深圳 5号线/环中线 怡景\n",
      "深圳 5号线/环中线 黄贝岭\n",
      "深圳 7号线/西丽线 西丽湖\n",
      "深圳 7号线/西丽线 西丽\n",
      "深圳 7号线/西丽线 茶光\n",
      "深圳 7号线/西丽线 珠光\n",
      "深圳 7号线/西丽线 龙井\n",
      "深圳 7号线/西丽线 桃源村\n",
      "深圳 7号线/西丽线 深云\n",
      "深圳 7号线/西丽线 安托山\n",
      "深圳 7号线/西丽线 农林\n",
      "深圳 7号线/西丽线 车公庙\n",
      "深圳 7号线/西丽线 上沙\n",
      "深圳 7号线/西丽线 沙尾\n",
      "深圳 7号线/西丽线 石厦\n",
      "深圳 7号线/西丽线 皇岗村\n",
      "深圳 7号线/西丽线 福民\n",
      "深圳 7号线/西丽线 皇岗口岸\n",
      "深圳 7号线/西丽线 赤尾\n",
      "深圳 7号线/西丽线 华强南\n",
      "深圳 7号线/西丽线 华强北\n",
      "深圳 7号线/西丽线 华新\n",
      "深圳 7号线/西丽线 黄木岗\n",
      "深圳 7号线/西丽线 八卦岭\n",
      "深圳 7号线/西丽线 红岭北\n",
      "深圳 7号线/西丽线 笋岗\n",
      "深圳 7号线/西丽线 洪湖\n",
      "深圳 7号线/西丽线 田贝\n",
      "深圳 7号线/西丽线 太安\n",
      "深圳 9号线/梅林线 红树湾南\n",
      "深圳 9号线/梅林线 深湾\n",
      "深圳 9号线/梅林线 深圳湾公园\n",
      "深圳 9号线/梅林线 下沙\n",
      "深圳 9号线/梅林线 车公庙\n",
      "深圳 9号线/梅林线 香梅\n",
      "深圳 9号线/梅林线 景田\n",
      "深圳 9号线/梅林线 梅景\n",
      "深圳 9号线/梅林线 下梅林\n",
      "深圳 9号线/梅林线 梅村\n",
      "深圳 9号线/梅林线 上梅林\n",
      "深圳 9号线/梅林线 孖岭\n",
      "深圳 9号线/梅林线 银湖\n",
      "深圳 9号线/梅林线 泥岗\n",
      "深圳 9号线/梅林线 红岭北\n",
      "深圳 9号线/梅林线 园岭\n",
      "深圳 9号线/梅林线 红岭\n",
      "深圳 9号线/梅林线 红岭南\n",
      "深圳 9号线/梅林线 鹿丹村\n",
      "深圳 9号线/梅林线 人民南\n",
      "深圳 9号线/梅林线 向西村\n",
      "深圳 9号线/梅林线 文锦\n",
      "深圳 11号线/机场线 碧头\n",
      "深圳 11号线/机场线 松岗\n",
      "深圳 11号线/机场线 后亭\n",
      "深圳 11号线/机场线 沙井\n",
      "深圳 11号线/机场线 马安山\n",
      "深圳 11号线/机场线 塘尾\n",
      "深圳 11号线/机场线 桥头\n",
      "深圳 11号线/机场线 福永\n",
      "深圳 11号线/机场线 机场北\n",
      "深圳 11号线/机场线 机场\n",
      "深圳 11号线/机场线 碧海湾\n",
      "深圳 11号线/机场线 宝安\n",
      "深圳 11号线/机场线 前海湾\n",
      "深圳 11号线/机场线 南山\n",
      "深圳 11号线/机场线 后海\n",
      "深圳 11号线/机场线 红树湾南\n",
      "深圳 11号线/机场线 车公庙\n",
      "深圳 11号线/机场线 福田\n"
     ]
    }
   ],
   "source": [
    "data = parse_get_subway(\"4403\", \"shenzhen\", \"深圳\")"
   ]
  },
  {
   "cell_type": "code",
   "execution_count": 75,
   "metadata": {},
   "outputs": [],
   "source": [
    "def prepare_data():\n",
    "    result = {}\n",
    "    with open('subway.json', 'r', encoding='utf-8') as file:\n",
    "        for line in file:\n",
    "            info = line.strip('\\n').split(',')\n",
    "            name = info[1].split('/')[0]\n",
    "            if name not in result.keys():\n",
    "                result[name] = []\n",
    "            result[name].append(info[2])\n",
    "        return result"
   ]
  },
  {
   "cell_type": "code",
   "execution_count": 76,
   "metadata": {},
   "outputs": [],
   "source": [
    "subway_dict = prepare_data()"
   ]
  },
  {
   "cell_type": "code",
   "execution_count": 82,
   "metadata": {},
   "outputs": [],
   "source": [
    "def get_stations_connection(subway_dict):\n",
    "    stations_connection = {}\n",
    "    for key in subway_dict.keys():\n",
    "        tmp = subway_dict[key]\n",
    "        for i in range(len(tmp)):\n",
    "            name = tmp[i]\n",
    "            if name not in stations_connection.keys():\n",
    "                stations_connection[name] = []\n",
    "            if i != 0:\n",
    "                stations_connection[name].append(tmp[i-1])\n",
    "            if i != len(tmp)-1:\n",
    "                stations_connection[name].append(tmp[i+1])\n",
    "    return stations_connection\n",
    "        "
   ]
  },
  {
   "cell_type": "code",
   "execution_count": 84,
   "metadata": {},
   "outputs": [],
   "source": [
    "stations_connection = get_stations_connection(subway_dict)"
   ]
  },
  {
   "cell_type": "markdown",
   "metadata": {},
   "source": [
    "Some tips:"
   ]
  },
  {
   "cell_type": "markdown",
   "metadata": {},
   "source": [
    "a. Find a suitable way to save the data you get from the web. (Note: The way you use to save the data should be able to be used to create the graph that your agent is going to explore)"
   ]
  },
  {
   "cell_type": "markdown",
   "metadata": {},
   "source": [
    "#### 3. Build the search agent"
   ]
  },
  {
   "cell_type": "markdown",
   "metadata": {},
   "source": [
    "Build the search agent based ont he graph you built."
   ]
  },
  {
   "cell_type": "markdown",
   "metadata": {},
   "source": [
    "for example, if you use Beijing subway graoh, and you run:"
   ]
  },
  {
   "cell_type": "markdown",
   "metadata": {},
   "source": [
    "\\>>> search(\"奥体中心“，”天安门“）"
   ]
  },
  {
   "cell_type": "markdown",
   "metadata": {},
   "source": [
    "You should get the result as follows: 奥体中心 -> A ->B ->C ... -> 天安门"
   ]
  },
  {
   "cell_type": "code",
   "execution_count": 88,
   "metadata": {},
   "outputs": [],
   "source": [
    "def search_1(graph,start,destination):\n",
    "    pathes = [[start]]\n",
    "    visited = set()\n",
    "    \n",
    "    while pathes:\n",
    "        path = pathes.pop(0)\n",
    "        froniter = path[-1]\n",
    "        \n",
    "        if froniter in visited: continue\n",
    "            \n",
    "        successsors = graph[froniter]\n",
    "        \n",
    "        for city in successsors:\n",
    "            if city in path: continue  # check loop\n",
    "            \n",
    "            new_path = path+[city]\n",
    "            \n",
    "            pathes.append(new_path)  #bfs\n",
    "            #pathes = [new_path] + pathes #dfs\n",
    "            \n",
    "            if city == destination:\n",
    "                return new_path\n",
    "        visited.add(froniter)"
   ]
  },
  {
   "cell_type": "code",
   "execution_count": 90,
   "metadata": {},
   "outputs": [
    {
     "data": {
      "text/plain": [
       "['罗湖', '国贸', '老街', '大剧院', '燕南', '华强北', '岗厦北', '市民中心', '福田', '车公庙', '农林', '安托山']"
      ]
     },
     "execution_count": 90,
     "metadata": {},
     "output_type": "execute_result"
    }
   ],
   "source": [
    "search_1(stations_connection, \"罗湖\",\"\")"
   ]
  },
  {
   "cell_type": "markdown",
   "metadata": {},
   "source": [
    "### (Optional) Improve your agent to make it able to find a path based on different strategies"
   ]
  },
  {
   "cell_type": "markdown",
   "metadata": {},
   "source": [
    "Some ideas you might want to try:"
   ]
  },
  {
   "cell_type": "markdown",
   "metadata": {},
   "source": [
    "a. Find the shortest path between two stations."
   ]
  },
  {
   "cell_type": "markdown",
   "metadata": {},
   "source": [
    "b. Find the path that requires minimum transfers between two stations."
   ]
  },
  {
   "cell_type": "markdown",
   "metadata": {},
   "source": [
    "c. Combine the previous two ideas, find a more suitable path."
   ]
  },
  {
   "cell_type": "markdown",
   "metadata": {},
   "source": [
    "Compare your results with results obtained by using some apps such as Baidu map, A map, Google map or Apple map. If there is difference, try to explanate it."
   ]
  },
  {
   "cell_type": "code",
   "execution_count": 92,
   "metadata": {},
   "outputs": [],
   "source": [
    "def search_2(graph,start,destination,search_strategy):\n",
    "    pathes = [[start]]\n",
    "    #visited = set()\n",
    "    while pathes:\n",
    "        path = pathes.pop(0)\n",
    "        froniter = path[-1]\n",
    "        #if froniter in visited : continue\n",
    "        #if froniter == destination:\n",
    "        #    return path\n",
    "        successsors = graph[froniter]\n",
    "        \n",
    "        for city in successsors:\n",
    "            if city in path: continue  # check loop\n",
    "            \n",
    "            new_path = path+[city]\n",
    "            \n",
    "            pathes.append(new_path)  #bfs\n",
    "            \n",
    "        pathes = search_strategy(pathes)\n",
    "       # visited.add(froniter)\n",
    "        if pathes and (destination == pathes[0][-1]):\n",
    "            return pathes[0]  "
   ]
  },
  {
   "cell_type": "code",
   "execution_count": 93,
   "metadata": {},
   "outputs": [],
   "source": [
    "def sort_by_stations(pathes):\n",
    "    def get_stations_of_path(path):\n",
    "        return len(path)\n",
    "    return sorted(pathes,key=get_stations_of_path)"
   ]
  },
  {
   "cell_type": "code",
   "execution_count": 100,
   "metadata": {},
   "outputs": [],
   "source": [
    "lines_dict = {}\n",
    "for key in subway_dict.keys():\n",
    "    lines_dict[key] = ''.join(subway_dict[key])"
   ]
  },
  {
   "cell_type": "code",
   "execution_count": 102,
   "metadata": {},
   "outputs": [
    {
     "data": {
      "text/plain": [
       "{'1号线': '罗湖国贸老街大剧院大剧院科学馆华强路岗厦会展中心购物公园香蜜湖车公庙竹子林侨城东华侨城世界之窗白石洲高新园深大桃园大新鲤鱼门前海湾新安宝安中心宝体坪洲西乡固戍后瑞机场东',\n",
       " '2号线': '赤湾蛇口港海上世界水湾东角头湾厦海月登良后海科苑红树湾世界之窗侨城北深康安托山侨香香蜜香梅北景田莲花西福田市民中心岗厦北华强北燕南大剧院湖贝黄贝岭新秀',\n",
       " '3号线': '益田石厦购物公园福田少年宫莲花村华新通新岭红岭老街晒布翠竹田贝水贝草埔布吉木棉湾大芬丹竹头六约塘坑横岗永湖荷坳大运爱联吉祥龙城广场南联双龙',\n",
       " '4号线': '福田口岸福民会展中心市民中心少年宫莲花北上梅林民乐白石龙深圳北站红山上塘龙胜龙华清湖',\n",
       " '5号线': '赤湾荔湾铁路公园妈湾前湾公园前湾桂湾前海湾临海宝华宝安中心翻身灵芝洪浪北兴东留仙洞西丽大学城塘朗长岭陂深圳北站民治五和坂田杨美上水径下水径长龙布吉百鸽笼布心太安怡景黄贝岭',\n",
       " '7号线': '西丽湖西丽茶光珠光龙井桃源村深云安托山农林车公庙上沙沙尾石厦皇岗村福民皇岗口岸赤尾华强南华强北华新黄木岗八卦岭红岭北笋岗洪湖田贝太安',\n",
       " '9号线': '红树湾南深湾深圳湾公园下沙车公庙香梅景田梅景下梅林梅村上梅林孖岭银湖泥岗红岭北园岭红岭红岭南鹿丹村人民南向西村文锦',\n",
       " '11号线': '碧头松岗后亭沙井马安山塘尾桥头福永机场北机场碧海湾宝安前海湾南山后海红树湾南车公庙福田'}"
      ]
     },
     "execution_count": 102,
     "metadata": {},
     "output_type": "execute_result"
    }
   ],
   "source": [
    "lines_dict"
   ]
  },
  {
   "cell_type": "code",
   "execution_count": 145,
   "metadata": {},
   "outputs": [],
   "source": [
    "def sort_by_transfer(pathes):\n",
    "    def get_transfer_of_path(path):\n",
    "        count = 0\n",
    "        current_key = ''\n",
    "        for i in range(len(path)-1):\n",
    "            current_path = path[i] + path[i+1]\n",
    "            current_path1 =  path[i+1] + path[i]\n",
    "            for key in lines_dict.keys():\n",
    "                if current_path in lines_dict[key] or current_path1 in lines_dict[key]:\n",
    "                    if key != current_key:\n",
    "                        count += 1 \n",
    "                        current_key = key\n",
    "        return count\n",
    "    return sorted(pathes,key=get_transfer_of_path)"
   ]
  },
  {
   "cell_type": "code",
   "execution_count": 146,
   "metadata": {},
   "outputs": [
    {
     "data": {
      "text/plain": [
       "['罗湖',\n",
       " '国贸',\n",
       " '老街',\n",
       " '大剧院',\n",
       " '科学馆',\n",
       " '华强路',\n",
       " '岗厦',\n",
       " '会展中心',\n",
       " '购物公园',\n",
       " '香蜜湖',\n",
       " '车公庙',\n",
       " '农林',\n",
       " '安托山']"
      ]
     },
     "execution_count": 146,
     "metadata": {},
     "output_type": "execute_result"
    }
   ],
   "source": [
    "search_2(stations_connection,\"罗湖\",\"安托山\",search_strategy=sort_by_transfer)"
   ]
  },
  {
   "cell_type": "code",
   "execution_count": 107,
   "metadata": {},
   "outputs": [
    {
     "data": {
      "text/plain": [
       "['罗湖', '国贸', '老街', '大剧院', '燕南', '华强北', '岗厦北', '市民中心', '福田', '车公庙', '农林', '安托山']"
      ]
     },
     "execution_count": 107,
     "metadata": {},
     "output_type": "execute_result"
    }
   ],
   "source": [
    "search_2(stations_connection,\"罗湖\",\"安托山\",search_strategy=sort_by_stations)"
   ]
  },
  {
   "cell_type": "markdown",
   "metadata": {},
   "source": [
    "## Congratulations ! You have finished the assignment of week 2."
   ]
  },
  {
   "cell_type": "markdown",
   "metadata": {},
   "source": [
    "![title](img/agent.png)"
   ]
  },
  {
   "cell_type": "markdown",
   "metadata": {},
   "source": [
    "### If you have any suggestions regarding the teaching, please feel free to send them to my eamil (eric.lee.xiao@gmail.com) "
   ]
  },
  {
   "cell_type": "code",
   "execution_count": null,
   "metadata": {},
   "outputs": [],
   "source": []
  }
 ],
 "metadata": {
  "kernelspec": {
   "display_name": "Python 3",
   "language": "python",
   "name": "python3"
  },
  "language_info": {
   "codemirror_mode": {
    "name": "ipython",
    "version": 3
   },
   "file_extension": ".py",
   "mimetype": "text/x-python",
   "name": "python",
   "nbconvert_exporter": "python",
   "pygments_lexer": "ipython3",
   "version": "3.7.0"
  }
 },
 "nbformat": 4,
 "nbformat_minor": 2
}
